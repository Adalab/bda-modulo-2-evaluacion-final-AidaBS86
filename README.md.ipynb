{
 "cells": [
  {
   "cell_type": "markdown",
   "id": "37c06a99",
   "metadata": {},
   "source": [
    "En este repositorio hay acceso a mi ejercicio tecnico del modulo 2: SQL del bootcamp de Data Analyst en Adalab.\n",
    "Consta de 23 preguntas mas 2 de bonus. Se ha realizado el ejercicio enteramente en SQL Workbench, con un uso de Github para compartir el mismo.\n"
   ]
  }
 ],
 "metadata": {
  "language_info": {
   "name": "python"
  }
 },
 "nbformat": 4,
 "nbformat_minor": 5
}
